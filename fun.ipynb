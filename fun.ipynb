{
 "cells": [
  {
   "cell_type": "code",
   "execution_count": 1,
   "metadata": {},
   "outputs": [],
   "source": [
    "import numpy as np\n",
    "import scipy\n",
    "import sympy as sp\n",
    "from IPython.display import display\n"
   ]
  },
  {
   "cell_type": "markdown",
   "metadata": {},
   "source": [
    "## Deriving discrete dynamics"
   ]
  },
  {
   "cell_type": "code",
   "execution_count": 3,
   "metadata": {},
   "outputs": [
    {
     "data": {
      "text/latex": [
       "$\\displaystyle \\left[\\begin{matrix}\\frac{dt^{2} u}{2} + dt x_{2} + x_{1}\\\\dt u + x_{2}\\end{matrix}\\right]$"
      ],
      "text/plain": [
       "Matrix([\n",
       "[dt**2*u/2 + dt*x2 + x1],\n",
       "[             dt*u + x2]])"
      ]
     },
     "metadata": {},
     "output_type": "display_data"
    },
    {
     "name": "stdout",
     "output_type": "stream",
     "text": [
      "A_discrete\n"
     ]
    },
    {
     "data": {
      "text/latex": [
       "$\\displaystyle \\left[\\begin{matrix}1 & dt\\\\0 & 1\\end{matrix}\\right]$"
      ],
      "text/plain": [
       "Matrix([\n",
       "[1, dt],\n",
       "[0,  1]])"
      ]
     },
     "metadata": {},
     "output_type": "display_data"
    },
    {
     "name": "stdout",
     "output_type": "stream",
     "text": [
      "B_discrete\n"
     ]
    },
    {
     "data": {
      "text/latex": [
       "$\\displaystyle \\left[\\begin{matrix}\\frac{dt^{2}}{2}\\\\dt\\end{matrix}\\right]$"
      ],
      "text/plain": [
       "Matrix([\n",
       "[dt**2/2],\n",
       "[     dt]])"
      ]
     },
     "metadata": {},
     "output_type": "display_data"
    },
    {
     "data": {
      "text/latex": [
       "$\\displaystyle \\left[\\begin{matrix}\\frac{dt^{2} u}{2} + dt x_{2} + x_{1}\\\\dt u + x_{2}\\end{matrix}\\right]$"
      ],
      "text/plain": [
       "Matrix([\n",
       "[dt**2*u/2 + dt*x2 + x1],\n",
       "[             dt*u + x2]])"
      ]
     },
     "metadata": {},
     "output_type": "display_data"
    },
    {
     "data": {
      "text/latex": [
       "$\\displaystyle \\left[\\begin{matrix}0\\\\0\\end{matrix}\\right]$"
      ],
      "text/plain": [
       "Matrix([\n",
       "[0],\n",
       "[0]])"
      ]
     },
     "metadata": {},
     "output_type": "display_data"
    }
   ],
   "source": [
    "A_continuous = sp.Matrix([[0, 1], [0, 0]])\n",
    "B_continuous = sp.Matrix([[0], [1]])\n",
    "dt = sp.symbols('dt')\n",
    "x1, x2 = sp.symbols('x1 x2')\n",
    "x = sp.Matrix([[x1], [x2]])\n",
    "u = sp.symbols('u')\n",
    "\n",
    "k1 = A_continuous * x + B_continuous * u\n",
    "k2 = A_continuous * (x + 0.5 * dt * k1) + B_continuous * u\n",
    "k3 = A_continuous * (x + 0.5 * dt * k2) + B_continuous * u\n",
    "k4 = A_continuous * (x + dt * k3) + B_continuous * u\n",
    "\n",
    "x_new = sp.simplify(x + dt / 6 * (k1 + 2 * k2 + 2 * k3 + k4))\n",
    "display(x_new)\n",
    "\n",
    "A_discrete = sp.Matrix([[1, dt], [0, 1]])\n",
    "B_discrete = sp.Matrix([[dt**2 / 2], [dt]])\n",
    "print(\"A_discrete\")\n",
    "display(A_discrete)\n",
    "print(\"B_discrete\")\n",
    "display(B_discrete)\n",
    "display(A_discrete * x + B_discrete * u)\n",
    "display(A_discrete * x + B_discrete * u - x_new)"
   ]
  },
  {
   "cell_type": "markdown",
   "metadata": {},
   "source": [
    "## Formula for sigma_K"
   ]
  },
  {
   "cell_type": "code",
   "execution_count": 13,
   "metadata": {},
   "outputs": [
    {
     "name": "stdout",
     "output_type": "stream",
     "text": [
      "[[56.5075     -5.0125    ]\n",
      " [-5.0125     27.53775381]]\n",
      "[[56.21347441 -4.92789156]\n",
      " [-4.92789156 27.54732014]]\n"
     ]
    }
   ],
   "source": [
    "x0_distribution = lambda: np.random.multivariate_normal(np.zeros(2), np.eye(2))\n",
    "\n",
    "\n",
    "def get_sigma_k_exact(A,B,K):\n",
    "    closed_loop = A - B @ K\n",
    "    return scipy.linalg.solve_discrete_lyapunov(closed_loop, np.eye(2))\n",
    "\n",
    "def get_sigma_k_mc(A,B,K,x0_distribution,num_samples=1000,max_timesteps=50):\n",
    "    total = np.zeros((2,2))\n",
    "\n",
    "    for _ in range(num_samples):\n",
    "        x0 = x0_distribution()\n",
    "        for _ in range(max_timesteps):\n",
    "            total += np.outer(x0, x0)\n",
    "            x0 = A @ x0 - B @ K @ x0\n",
    "    return total / num_samples\n",
    "\n",
    "dt = 0.1\n",
    "A = np.array([[1, dt], [0, 1]])\n",
    "B = np.array([[dt**2 / 2], [dt]])\n",
    "K = np.array([[0.5, 0.3]])\n",
    "\n",
    "print(get_sigma_k_exact(A,B,K))\n",
    "print(get_sigma_k_mc(A,B,K,x0_distribution, num_samples=30000, max_timesteps=200))\n"
   ]
  },
  {
   "cell_type": "code",
   "execution_count": 144,
   "metadata": {},
   "outputs": [],
   "source": [
    "def get_P_K(K, A, B, Q, R):\n",
    "    return scipy.linalg.solve_discrete_lyapunov((A - B @ K).T, Q + K.T @ R @ K)\n",
    "\n",
    "def get_cost(K, A, B, Q, R):\n",
    "    return np.trace(get_P_K(K, A, B, Q, R))"
   ]
  },
  {
   "cell_type": "markdown",
   "metadata": {},
   "source": [
    "### Discrete Double Integrator"
   ]
  },
  {
   "cell_type": "code",
   "execution_count": 402,
   "metadata": {},
   "outputs": [],
   "source": [
    "dt = 0.1\n",
    "A = np.array([[1, dt], [0, 1]])\n",
    "B = np.array([[dt**2 / 2], [dt]])\n",
    "Q = np.eye(2) * 2\n",
    "R = np.array([[1]])"
   ]
  },
  {
   "cell_type": "markdown",
   "metadata": {},
   "source": [
    "### Algorithms\n",
    "\n",
    "- Described in section 4.1 of the paper"
   ]
  },
  {
   "cell_type": "code",
   "execution_count": 403,
   "metadata": {},
   "outputs": [
    {
     "name": "stdout",
     "output_type": "stream",
     "text": [
      "[[1.26717333 2.0347174 ]]\n"
     ]
    }
   ],
   "source": [
    "def exact_policy_gradient(A,B,Q,R,alpha, K0 = np.array([[1, 1]]), max_iterations=1000):\n",
    "    \n",
    "    K = K0\n",
    "    \n",
    "    for i in range(max_iterations):\n",
    "        P_K = get_P_K(K, A, B, Q, R)\n",
    "\n",
    "        # Compute Sigma_K\n",
    "        Sigma_K = get_sigma_k_exact(A,B,K)\n",
    "        \n",
    "        # Compute E_K\n",
    "        E_K = (R + B.T @ P_K @ B) @ K - B.T @ P_K @ A\n",
    "        \n",
    "        # Compute gradient\n",
    "        grad_C_K = 2 * E_K @ Sigma_K\n",
    "        \n",
    "        # Gauss-Newton update\n",
    "        K_new = K - alpha * grad_C_K\n",
    "        \n",
    "        K = K_new\n",
    "    \n",
    "    return K\n",
    "\n",
    "K = exact_policy_gradient(A,B,Q,R,alpha=0.002, max_iterations=3000)\n",
    "print(K)\n"
   ]
  },
  {
   "cell_type": "code",
   "execution_count": 404,
   "metadata": {},
   "outputs": [
    {
     "name": "stdout",
     "output_type": "stream",
     "text": [
      "[[1.26717333 2.0347174 ]]\n"
     ]
    }
   ],
   "source": [
    "def exact_natural_policy_gradient(A,B,Q,R,alpha, K0 = np.array([[1, 1]]), max_iterations=1000):\n",
    "    \n",
    "    K = K0\n",
    "    \n",
    "    for i in range(max_iterations):\n",
    "        # Compute P_K\n",
    "        P_K = get_P_K(K, A, B, Q, R)\n",
    "        \n",
    "        # Compute Sigma_K\n",
    "        Sigma_K = get_sigma_k_exact(A,B,K)\n",
    "        \n",
    "        # Compute E_K\n",
    "        E_K = (R + B.T @ P_K @ B) @ K - B.T @ P_K @ A\n",
    "        \n",
    "        # Compute gradient\n",
    "        grad_C_K = 2 * E_K @ Sigma_K\n",
    "        \n",
    "        # Gauss-Newton update\n",
    "        K_new = K - alpha * grad_C_K @ scipy.linalg.inv(Sigma_K)\n",
    "        \n",
    "        K = K_new\n",
    "    \n",
    "    return K\n",
    "\n",
    "K = exact_natural_policy_gradient(A,B,Q,R,alpha=0.02, max_iterations=3000)\n",
    "print(K)\n"
   ]
  },
  {
   "cell_type": "code",
   "execution_count": 358,
   "metadata": {},
   "outputs": [
    {
     "name": "stdout",
     "output_type": "stream",
     "text": [
      "[[0.91707456 1.63559619]]\n"
     ]
    }
   ],
   "source": [
    "def exact_gauss_newton(A,B,Q,R,alpha, K0 = np.array([[1, 1]]), max_iterations=1000):\n",
    "    \n",
    "    K = K0\n",
    "    \n",
    "    for i in range(max_iterations):\n",
    "        # Compute P_K\n",
    "        P_K = get_P_K(K, A, B, Q, R)\n",
    "\n",
    "        \n",
    "        # Compute Sigma_K\n",
    "        Sigma_K = get_sigma_k_exact(A,B,K)\n",
    "        \n",
    "        # Compute E_K\n",
    "        E_K = (R + B.T @ P_K @ B) @ K - B.T @ P_K @ A\n",
    "        \n",
    "        # Compute gradient\n",
    "        grad_C_K = 2 * E_K @ Sigma_K\n",
    "        \n",
    "        # Gauss-Newton update\n",
    "        K_new = K - alpha * scipy.linalg.inv(R + B.T @ P_K @ B) @ grad_C_K @ scipy.linalg.inv(Sigma_K)\n",
    "        \n",
    "        K = K_new\n",
    "    \n",
    "    return K\n",
    "\n",
    "K = exact_gauss_newton(A,B,Q,R,alpha=0.04, max_iterations=1000)\n",
    "print(K)\n"
   ]
  },
  {
   "cell_type": "code",
   "execution_count": 354,
   "metadata": {},
   "outputs": [
    {
     "name": "stdout",
     "output_type": "stream",
     "text": [
      "[[-1.07975305 -0.91158228]]\n",
      "---\n",
      "Current K: [[0.61079753 1.40911582]]\n",
      "[[-0.46386449  0.94036883]]\n",
      "---\n",
      "Current K: [[0.61543618 1.39971213]]\n",
      "[[-3.01720783 -6.35478105]]\n",
      "---\n",
      "Current K: [[0.64560825 1.46325995]]\n",
      "[[ 0.12407429 -0.12189154]]\n",
      "---\n",
      "Current K: [[0.64436751 1.46447886]]\n",
      "[[  4.47577731 -13.57494757]]\n",
      "---\n",
      "Current K: [[0.59960974 1.60022834]]\n",
      "[[-2.4449083  -3.19408198]]\n",
      "---\n",
      "Current K: [[0.62405882 1.63216916]]\n",
      "[[1.13402311 1.06515121]]\n",
      "---\n",
      "Current K: [[0.61271859 1.62151764]]\n",
      "[[-4.83847251  5.94611529]]\n",
      "---\n",
      "Current K: [[0.66110331 1.56205649]]\n",
      "[[-1.40580194  0.31177397]]\n",
      "---\n",
      "Current K: [[0.67516133 1.55893875]]\n"
     ]
    },
    {
     "ename": "KeyboardInterrupt",
     "evalue": "",
     "output_type": "error",
     "traceback": [
      "\u001b[0;31m---------------------------------------------------------------------------\u001b[0m",
      "\u001b[0;31mKeyboardInterrupt\u001b[0m                         Traceback (most recent call last)",
      "Cell \u001b[0;32mIn[354], line 107\u001b[0m\n\u001b[1;32m    103\u001b[0m         \u001b[38;5;28mprint\u001b[39m(\u001b[38;5;124mf\u001b[39m\u001b[38;5;124m\"\u001b[39m\u001b[38;5;124mCurrent K: \u001b[39m\u001b[38;5;132;01m{\u001b[39;00mK\u001b[38;5;132;01m}\u001b[39;00m\u001b[38;5;124m\"\u001b[39m)\n\u001b[1;32m    105\u001b[0m     \u001b[38;5;28;01mreturn\u001b[39;00m K\n\u001b[0;32m--> 107\u001b[0m Kest \u001b[38;5;241m=\u001b[39m \u001b[43mmodel_free_natural_policy_gradient\u001b[49m\u001b[43m(\u001b[49m\u001b[43mA\u001b[49m\u001b[43m,\u001b[49m\u001b[43mB\u001b[49m\u001b[43m,\u001b[49m\u001b[43mQ\u001b[49m\u001b[43m,\u001b[49m\u001b[43mR\u001b[49m\u001b[43m,\u001b[49m\u001b[43mK0\u001b[49m\u001b[38;5;241;43m=\u001b[39;49m\u001b[43mnp\u001b[49m\u001b[38;5;241;43m.\u001b[39;49m\u001b[43marray\u001b[49m\u001b[43m(\u001b[49m\u001b[43m[\u001b[49m\u001b[43m[\u001b[49m\u001b[38;5;241;43m0.6\u001b[39;49m\u001b[43m,\u001b[49m\u001b[43m \u001b[49m\u001b[38;5;241;43m1.4\u001b[39;49m\u001b[43m]\u001b[49m\u001b[43m]\u001b[49m\u001b[43m)\u001b[49m\u001b[43m,\u001b[49m\u001b[43m \u001b[49m\u001b[43mm\u001b[49m\u001b[38;5;241;43m=\u001b[39;49m\u001b[38;5;241;43m3000\u001b[39;49m\u001b[43m,\u001b[49m\u001b[43m \u001b[49m\u001b[43mroll_out_length\u001b[49m\u001b[38;5;241;43m=\u001b[39;49m\u001b[38;5;241;43m200\u001b[39;49m\u001b[43m,\u001b[49m\u001b[43m \u001b[49m\u001b[43mr\u001b[49m\u001b[38;5;241;43m=\u001b[39;49m\u001b[38;5;241;43m0.01\u001b[39;49m\u001b[43m,\u001b[49m\u001b[43m \u001b[49m\u001b[43mmax_iterations\u001b[49m\u001b[38;5;241;43m=\u001b[39;49m\u001b[38;5;241;43m109\u001b[39;49m\u001b[43m,\u001b[49m\u001b[43m \u001b[49m\u001b[43meta\u001b[49m\u001b[38;5;241;43m=\u001b[39;49m\u001b[38;5;241;43m0.01\u001b[39;49m\u001b[43m,\u001b[49m\u001b[43m)\u001b[49m\n\u001b[1;32m    108\u001b[0m \u001b[38;5;28mprint\u001b[39m(Kest)\n",
      "Cell \u001b[0;32mIn[354], line 89\u001b[0m, in \u001b[0;36mmodel_free_natural_policy_gradient\u001b[0;34m(A, B, Q, R, K0, m, roll_out_length, r, max_iterations, eta)\u001b[0m\n\u001b[1;32m     85\u001b[0m d \u001b[38;5;241m=\u001b[39m A\u001b[38;5;241m.\u001b[39mshape[\u001b[38;5;241m0\u001b[39m]\n\u001b[1;32m     87\u001b[0m \u001b[38;5;28;01mfor\u001b[39;00m i \u001b[38;5;129;01min\u001b[39;00m \u001b[38;5;28mrange\u001b[39m(max_iterations):\n\u001b[1;32m     88\u001b[0m     \u001b[38;5;66;03m# Get empirical estimates\u001b[39;00m\n\u001b[0;32m---> 89\u001b[0m     grad_estimate, sigma_estimate \u001b[38;5;241m=\u001b[39m \u001b[43mpolicy_gradient_estimation\u001b[49m\u001b[43m(\u001b[49m\n\u001b[1;32m     90\u001b[0m \u001b[43m        \u001b[49m\u001b[43mK\u001b[49m\u001b[43m,\u001b[49m\u001b[43m \u001b[49m\u001b[43mm\u001b[49m\u001b[43m,\u001b[49m\u001b[43m \u001b[49m\u001b[43mroll_out_length\u001b[49m\u001b[43m,\u001b[49m\u001b[43m \u001b[49m\u001b[43mr\u001b[49m\u001b[43m,\u001b[49m\u001b[43m \u001b[49m\u001b[43md\u001b[49m\u001b[43m)\u001b[49m\n\u001b[1;32m     91\u001b[0m     \u001b[38;5;28mprint\u001b[39m(grad_estimate)\n\u001b[1;32m     92\u001b[0m     \u001b[38;5;66;03m# print(sigma_estimate)\u001b[39;00m\n",
      "Cell \u001b[0;32mIn[354], line 42\u001b[0m, in \u001b[0;36mpolicy_gradient_estimation\u001b[0;34m(K, m, roll_out_length, r, d)\u001b[0m\n\u001b[1;32m     37\u001b[0m     costs[t] \u001b[38;5;241m=\u001b[39m x\u001b[38;5;241m.\u001b[39mT \u001b[38;5;241m@\u001b[39m Q \u001b[38;5;241m@\u001b[39m x \u001b[38;5;241m+\u001b[39m u\u001b[38;5;241m.\u001b[39mT \u001b[38;5;241m@\u001b[39m R \u001b[38;5;241m@\u001b[39m u\n\u001b[1;32m     39\u001b[0m     \u001b[38;5;66;03m# Update state (assuming linear dynamics x_{t+1} = Ax_t + Bu_t)\u001b[39;00m\n\u001b[1;32m     40\u001b[0m     \u001b[38;5;66;03m# Note: In practice, you would use the actual system dynamics or\u001b[39;00m\n\u001b[1;32m     41\u001b[0m     \u001b[38;5;66;03m# simulator here instead of this placeholder\u001b[39;00m\n\u001b[0;32m---> 42\u001b[0m     x \u001b[38;5;241m=\u001b[39m A \u001b[38;5;241m@\u001b[39m x \u001b[38;5;241m+\u001b[39m B \u001b[38;5;241m@\u001b[39m u\n\u001b[1;32m     44\u001b[0m \u001b[38;5;66;03m# Calculate empirical estimates\u001b[39;00m\n\u001b[1;32m     45\u001b[0m C_i \u001b[38;5;241m=\u001b[39m np\u001b[38;5;241m.\u001b[39msum(costs)\n",
      "\u001b[0;31mKeyboardInterrupt\u001b[0m: "
     ]
    }
   ],
   "source": [
    "import numpy as np\n",
    "\n",
    "def policy_gradient_estimation(K, m, roll_out_length, r, d):\n",
    "    # Initialize arrays to store estimates\n",
    "    C_estimates = []\n",
    "    sigma_estimates = []\n",
    "    x = x0_distribution()  # Assuming standard normal distribution for D\n",
    "    \n",
    "    # Sample m trajectories\n",
    "    for i in range(m):\n",
    "        # Sample random matrix U_i with Frobenius norm r\n",
    "        U_i = np.random.randn(*K.shape)\n",
    "        U_i = r * U_i / np.linalg.norm(U_i, 'fro')\n",
    "\n",
    "        \n",
    "        # Perturbed policy K_i = K + U_i\n",
    "        K_i = K + U_i\n",
    "\n",
    "        # assert False\n",
    "        \n",
    "        # Initialize arrays for trajectory\n",
    "        costs = np.zeros(roll_out_length)\n",
    "        states = np.zeros((roll_out_length, d))\n",
    "        \n",
    "        # Sample initial state\n",
    "\n",
    "        \n",
    "        # Simulate trajectory for ℓ steps\n",
    "        for t in range(roll_out_length):\n",
    "            # Store current state\n",
    "            \n",
    "            # Calculate control input\n",
    "            u = -K_i @ x\n",
    "            \n",
    "            # Calculate cost (assuming Q and R are identity matrices for simplicity)\n",
    "            states[t] = x\n",
    "            costs[t] = x.T @ Q @ x + u.T @ R @ u\n",
    "            \n",
    "            # Update state (assuming linear dynamics x_{t+1} = Ax_t + Bu_t)\n",
    "            # Note: In practice, you would use the actual system dynamics or\n",
    "            # simulator here instead of this placeholder\n",
    "            x = A @ x + B @ u\n",
    "        \n",
    "        # Calculate empirical estimates\n",
    "        C_i = np.sum(costs)\n",
    "\n",
    "        Sigma_i = np.zeros((d,d))\n",
    "        for s in states:\n",
    "            Sigma_i += np.outer(s, s)\n",
    "        \n",
    "        C_estimates.append((C_i, U_i))\n",
    "        sigma_estimates.append(Sigma_i)\n",
    "    \n",
    "    # Calculate final estimates\n",
    "    gradient_estimate = np.zeros_like(K, dtype=np.float64)\n",
    "    for C_i, U_i in C_estimates:\n",
    "        gradient_estimate += (d / (m * r**2)) * C_i * U_i\n",
    "    \n",
    "    sigma_estimate = np.mean(sigma_estimates, axis=0)\n",
    "    \n",
    "    return gradient_estimate, sigma_estimate\n",
    "\n",
    "def approximate_policy_gradient(A,B,Q,R,alpha, K0 = np.array([[1, 1]]), max_iterations=1000):\n",
    "    \n",
    "    K = K0\n",
    "    \n",
    "    for i in range(max_iterations):\n",
    "        print(i)\n",
    "        grad_C_K = policy_gradient_estimation(K, m=30, roll_out_length=200, r=0.001, d=2)[0]\n",
    "\n",
    "        print(grad_C_K)\n",
    "        \n",
    "        # Gauss-Newton update\n",
    "        K_new = K - alpha * grad_C_K\n",
    "        \n",
    "        K = K_new\n",
    "    \n",
    "    return K\n",
    "\n",
    "# Kest = approximate_policy_gradient(A,B,Q,R,alpha=0.001, max_iterations=50)\n",
    "# print(Kest)\n",
    "\n",
    "def model_free_natural_policy_gradient(A, B, Q, R, K0, m, roll_out_length, r, \n",
    "                                     max_iterations=1000, eta=None):\n",
    "    K = K0\n",
    "    d = A.shape[0]\n",
    "    \n",
    "    for i in range(max_iterations):\n",
    "        # Get empirical estimates\n",
    "        grad_estimate, sigma_estimate = policy_gradient_estimation(\n",
    "            K, m, roll_out_length, r, d)\n",
    "        print(grad_estimate)\n",
    "        # print(sigma_estimate)\n",
    "        print(\"---\")\n",
    "        \n",
    "        # Natural policy gradient update\n",
    "        K_new = K - eta * grad_estimate\n",
    "        \n",
    "        # Check convergence\n",
    "        if np.allclose(K, K_new, rtol=1e-8, atol=1e-8):\n",
    "            break\n",
    "            \n",
    "        K = K_new\n",
    "        print(f\"Current K: {K}\")\n",
    "    \n",
    "    return K\n",
    "\n",
    "Kest = model_free_natural_policy_gradient(A,B,Q,R,K0=np.array([[0.6, 1.4]]), m=3000, roll_out_length=200, r=0.01, max_iterations=109, eta=0.01,)\n",
    "print(Kest)\n"
   ]
  },
  {
   "cell_type": "code",
   "execution_count": 352,
   "metadata": {},
   "outputs": [
    {
     "name": "stdout",
     "output_type": "stream",
     "text": [
      "Time taken: 6.254521131515503 seconds\n",
      "Time taken: 11.309934377670288 seconds\n"
     ]
    }
   ],
   "source": [
    "def policy_gradient_estimation_naive(K, m, roll_out_length, r, d):\n",
    "    # Initialize arrays to store estimates\n",
    "    C_estimates = []\n",
    "    sigma_estimates = []\n",
    "    \n",
    "    # Sample m trajectories\n",
    "    for i in range(m):\n",
    "        # Sample random matrix U_i with Frobenius norm r\n",
    "        U_i = np.random.randn(*K.shape)\n",
    "        U_i = r * U_i / np.linalg.norm(U_i, 'fro')\n",
    "\n",
    "        \n",
    "        # Perturbed policy K_i = K + U_i\n",
    "        K_i = K + U_i\n",
    "\n",
    "        # assert False\n",
    "        \n",
    "        # Initialize arrays for trajectory\n",
    "        costs = np.zeros(roll_out_length)\n",
    "        states = np.zeros((roll_out_length, d))\n",
    "        \n",
    "        # Sample initial state\n",
    "        x = x0_distribution()  # Assuming standard normal distribution for D\n",
    "\n",
    "        \n",
    "        # Simulate trajectory for ℓ steps\n",
    "        for t in range(roll_out_length):\n",
    "            # Store current state\n",
    "            \n",
    "            # Calculate control input\n",
    "            u = -K_i @ x\n",
    "            \n",
    "            # Calculate cost (assuming Q and R are identity matrices for simplicity)\n",
    "            states[t] = x\n",
    "            costs[t] = x.T @ Q @ x + u.T @ R @ u\n",
    "            \n",
    "            # Update state (assuming linear dynamics x_{t+1} = Ax_t + Bu_t)\n",
    "            # Note: In practice, you would use the actual system dynamics or\n",
    "            # simulator here instead of this placeholder\n",
    "            x = A @ x + B @ u\n",
    "        \n",
    "        # Calculate empirical estimates\n",
    "        C_i = np.sum(costs)\n",
    "\n",
    "        Sigma_i = np.zeros((d,d))\n",
    "        for s in states:\n",
    "            Sigma_i += np.outer(s, s)\n",
    "        \n",
    "        C_estimates.append((C_i, U_i))\n",
    "        sigma_estimates.append(Sigma_i)\n",
    "    \n",
    "    # Calculate final estimates\n",
    "    gradient_estimate = np.zeros_like(K, dtype=np.float64)\n",
    "    for C_i, U_i in C_estimates:\n",
    "        gradient_estimate += (d / (m * r**2)) * C_i * U_i\n",
    "    \n",
    "    sigma_estimate = np.mean(sigma_estimates, axis=0)\n",
    "    \n",
    "    return gradient_estimate, sigma_estimate\n",
    "\n",
    "def policy_gradient_estimation_optimized(K, m, roll_out_length, r, d):\n",
    "    # Initialize arrays to store estimates\n",
    "    C_estimates = []\n",
    "    sigma_estimates = []\n",
    "\n",
    "    closed_loop_dynamics = A - B @ K\n",
    "\n",
    "    \n",
    "    # Sample m trajectories\n",
    "    gradient_estimate = np.zeros_like(K, dtype=np.float64)\n",
    "    sigma_estimate = np.zeros((d,d), dtype=np.float64)\n",
    "    for i in range(m):\n",
    "        # Sample random matrix U_i with Frobenius norm r\n",
    "        U_i = np.random.randn(*K.shape)\n",
    "        U_i = r * U_i / np.linalg.norm(U_i, 'fro')\n",
    "\n",
    "        \n",
    "        # Perturbed policy K_i = K + U_i\n",
    "        K_i = K + U_i\n",
    "\n",
    "        # assert False\n",
    "        \n",
    "        # Initialize arrays for trajectory\n",
    "        states = np.zeros((roll_out_length, d))\n",
    "        \n",
    "        # Sample initial state\n",
    "        x = x0_distribution()  # Assuming standard normal distribution for D\n",
    "\n",
    "        closed_loop_dynamics = A - B @ K_i\n",
    "        cost_matrix = Q + K_i.T @ R @ K_i\n",
    "\n",
    "        \n",
    "        # Generate all states at once using matrix powers\n",
    "        states[0] = x\n",
    "        C_i = 0\n",
    "        for t in range(1, roll_out_length):\n",
    "            C_i += states[t-1].T @ cost_matrix @ states[t-1]\n",
    "            states[t] = closed_loop_dynamics @ states[t-1]\n",
    "        Sigma_i = sum(np.outer(s,s) for s in states)\n",
    "        gradient_estimate += C_i * U_i\n",
    "        sigma_estimate += Sigma_i\n",
    "    sigma_estimate /= m\n",
    "    gradient_estimate *= (d / (m * r**2))\n",
    "    \n",
    "    return gradient_estimate, sigma_estimate\n",
    "\n",
    "import time\n",
    "np.random.seed(0)\n",
    "K = np.array([[1, 1]])\n",
    "t1 = time.time()\n",
    "gradient_estimate_optimized, sigma_estimate_optimized = policy_gradient_estimation_optimized(K, m=300, roll_out_length=2000, r=0.001, d=2)\n",
    "t2 = time.time()\n",
    "print(f\"Time taken: {t2 - t1} seconds\")\n",
    "\n",
    "np.random.seed(0)\n",
    "t1 = time.time()\n",
    "gradient_estimate_naive, sigma_estimate_naive = policy_gradient_estimation_naive(K, m=300, roll_out_length=2000, r=0.001, d=2)\n",
    "t2 = time.time()\n",
    "print(f\"Time taken: {t2 - t1} seconds\")\n",
    "\n",
    "assert np.allclose(gradient_estimate_naive, gradient_estimate_optimized)\n",
    "\n"
   ]
  },
  {
   "cell_type": "code",
   "execution_count": 312,
   "metadata": {},
   "outputs": [
    {
     "data": {
      "text/plain": [
       "array([[-2263.81312049, -3057.73056581]])"
      ]
     },
     "execution_count": 312,
     "metadata": {},
     "output_type": "execute_result"
    }
   ],
   "source": [
    "gradient_estimate_optimized"
   ]
  },
  {
   "cell_type": "code",
   "execution_count": 204,
   "metadata": {},
   "outputs": [
    {
     "name": "stdout",
     "output_type": "stream",
     "text": [
      "0\n",
      "[[ 219.95054039 -981.36050134]]\n",
      "[[15.45656238 -4.7365099 ]\n",
      " [-4.7365099  10.41519119]]\n",
      "1\n",
      "[[ -240.51947442 -1544.48639723]]\n",
      "[[13.4395659  -4.49116641]\n",
      " [-4.49116641  4.63524694]]\n",
      "2\n",
      "[[-1378.45184543 -8641.86392017]]\n",
      "[[13.34759471 -4.91931182]\n",
      " [-4.91931182  3.12583069]]\n",
      "3\n"
     ]
    },
    {
     "name": "stderr",
     "output_type": "stream",
     "text": [
      "/tmp/ipykernel_24654/452576093.py:33: RuntimeWarning: overflow encountered in matmul\n",
      "  costs[t] = x.T @ Q @ x + u.T @ R @ u\n",
      "/home/kuba/.miniconda3/envs/dl/lib/python3.11/site-packages/numpy/core/numeric.py:925: RuntimeWarning: overflow encountered in multiply\n",
      "  return multiply(a.ravel()[:, newaxis], b.ravel()[newaxis, :], out)\n"
     ]
    },
    {
     "name": "stdout",
     "output_type": "stream",
     "text": [
      "[[nan nan]]\n",
      "[[inf inf]\n",
      " [inf inf]]\n"
     ]
    },
    {
     "name": "stderr",
     "output_type": "stream",
     "text": [
      "/tmp/ipykernel_24654/452576093.py:50: RuntimeWarning: invalid value encountered in add\n",
      "  gradient_estimate += (d / (m * r**2)) * C_i * U_i\n"
     ]
    },
    {
     "ename": "ValueError",
     "evalue": "array must not contain infs or NaNs",
     "output_type": "error",
     "traceback": [
      "\u001b[0;31m---------------------------------------------------------------------------\u001b[0m",
      "\u001b[0;31mValueError\u001b[0m                                Traceback (most recent call last)",
      "Cell \u001b[0;32mIn[204], line 18\u001b[0m\n\u001b[1;32m     14\u001b[0m         K \u001b[38;5;241m=\u001b[39m K_new\n\u001b[1;32m     16\u001b[0m     \u001b[38;5;28;01mreturn\u001b[39;00m K\n\u001b[0;32m---> 18\u001b[0m Kest \u001b[38;5;241m=\u001b[39m \u001b[43mapproximate_natural_policy_gradient\u001b[49m\u001b[43m(\u001b[49m\u001b[43mA\u001b[49m\u001b[43m,\u001b[49m\u001b[43mB\u001b[49m\u001b[43m,\u001b[49m\u001b[43mQ\u001b[49m\u001b[43m,\u001b[49m\u001b[43mR\u001b[49m\u001b[43m,\u001b[49m\u001b[43malpha\u001b[49m\u001b[38;5;241;43m=\u001b[39;49m\u001b[38;5;241;43m0.02\u001b[39;49m\u001b[43m,\u001b[49m\u001b[43m \u001b[49m\u001b[43mmax_iterations\u001b[49m\u001b[38;5;241;43m=\u001b[39;49m\u001b[38;5;241;43m50\u001b[39;49m\u001b[43m)\u001b[49m\n\u001b[1;32m     19\u001b[0m \u001b[38;5;28mprint\u001b[39m(Kest)\n",
      "Cell \u001b[0;32mIn[204], line 12\u001b[0m, in \u001b[0;36mapproximate_natural_policy_gradient\u001b[0;34m(A, B, Q, R, alpha, K0, max_iterations)\u001b[0m\n\u001b[1;32m      9\u001b[0m     \u001b[38;5;28mprint\u001b[39m(Sigma_K)\n\u001b[1;32m     11\u001b[0m     \u001b[38;5;66;03m# Gauss-Newton update\u001b[39;00m\n\u001b[0;32m---> 12\u001b[0m     K_new \u001b[38;5;241m=\u001b[39m K \u001b[38;5;241m-\u001b[39m alpha \u001b[38;5;241m*\u001b[39m grad_C_K \u001b[38;5;241m@\u001b[39m \u001b[43mscipy\u001b[49m\u001b[38;5;241;43m.\u001b[39;49m\u001b[43mlinalg\u001b[49m\u001b[38;5;241;43m.\u001b[39;49m\u001b[43minv\u001b[49m\u001b[43m(\u001b[49m\u001b[43mSigma_K\u001b[49m\u001b[43m)\u001b[49m\n\u001b[1;32m     14\u001b[0m     K \u001b[38;5;241m=\u001b[39m K_new\n\u001b[1;32m     16\u001b[0m \u001b[38;5;28;01mreturn\u001b[39;00m K\n",
      "File \u001b[0;32m~/.miniconda3/envs/dl/lib/python3.11/site-packages/scipy/linalg/_basic.py:940\u001b[0m, in \u001b[0;36minv\u001b[0;34m(a, overwrite_a, check_finite)\u001b[0m\n\u001b[1;32m    900\u001b[0m \u001b[38;5;28;01mdef\u001b[39;00m \u001b[38;5;21minv\u001b[39m(a, overwrite_a\u001b[38;5;241m=\u001b[39m\u001b[38;5;28;01mFalse\u001b[39;00m, check_finite\u001b[38;5;241m=\u001b[39m\u001b[38;5;28;01mTrue\u001b[39;00m):\n\u001b[1;32m    901\u001b[0m \u001b[38;5;250m    \u001b[39m\u001b[38;5;124;03m\"\"\"\u001b[39;00m\n\u001b[1;32m    902\u001b[0m \u001b[38;5;124;03m    Compute the inverse of a matrix.\u001b[39;00m\n\u001b[1;32m    903\u001b[0m \n\u001b[0;32m   (...)\u001b[0m\n\u001b[1;32m    938\u001b[0m \n\u001b[1;32m    939\u001b[0m \u001b[38;5;124;03m    \"\"\"\u001b[39;00m\n\u001b[0;32m--> 940\u001b[0m     a1 \u001b[38;5;241m=\u001b[39m \u001b[43m_asarray_validated\u001b[49m\u001b[43m(\u001b[49m\u001b[43ma\u001b[49m\u001b[43m,\u001b[49m\u001b[43m \u001b[49m\u001b[43mcheck_finite\u001b[49m\u001b[38;5;241;43m=\u001b[39;49m\u001b[43mcheck_finite\u001b[49m\u001b[43m)\u001b[49m\n\u001b[1;32m    941\u001b[0m     \u001b[38;5;28;01mif\u001b[39;00m \u001b[38;5;28mlen\u001b[39m(a1\u001b[38;5;241m.\u001b[39mshape) \u001b[38;5;241m!=\u001b[39m \u001b[38;5;241m2\u001b[39m \u001b[38;5;129;01mor\u001b[39;00m a1\u001b[38;5;241m.\u001b[39mshape[\u001b[38;5;241m0\u001b[39m] \u001b[38;5;241m!=\u001b[39m a1\u001b[38;5;241m.\u001b[39mshape[\u001b[38;5;241m1\u001b[39m]:\n\u001b[1;32m    942\u001b[0m         \u001b[38;5;28;01mraise\u001b[39;00m \u001b[38;5;167;01mValueError\u001b[39;00m(\u001b[38;5;124m'\u001b[39m\u001b[38;5;124mexpected square matrix\u001b[39m\u001b[38;5;124m'\u001b[39m)\n",
      "File \u001b[0;32m~/.miniconda3/envs/dl/lib/python3.11/site-packages/scipy/_lib/_util.py:321\u001b[0m, in \u001b[0;36m_asarray_validated\u001b[0;34m(a, check_finite, sparse_ok, objects_ok, mask_ok, as_inexact)\u001b[0m\n\u001b[1;32m    319\u001b[0m         \u001b[38;5;28;01mraise\u001b[39;00m \u001b[38;5;167;01mValueError\u001b[39;00m(\u001b[38;5;124m'\u001b[39m\u001b[38;5;124mmasked arrays are not supported\u001b[39m\u001b[38;5;124m'\u001b[39m)\n\u001b[1;32m    320\u001b[0m toarray \u001b[38;5;241m=\u001b[39m np\u001b[38;5;241m.\u001b[39masarray_chkfinite \u001b[38;5;28;01mif\u001b[39;00m check_finite \u001b[38;5;28;01melse\u001b[39;00m np\u001b[38;5;241m.\u001b[39masarray\n\u001b[0;32m--> 321\u001b[0m a \u001b[38;5;241m=\u001b[39m \u001b[43mtoarray\u001b[49m\u001b[43m(\u001b[49m\u001b[43ma\u001b[49m\u001b[43m)\u001b[49m\n\u001b[1;32m    322\u001b[0m \u001b[38;5;28;01mif\u001b[39;00m \u001b[38;5;129;01mnot\u001b[39;00m objects_ok:\n\u001b[1;32m    323\u001b[0m     \u001b[38;5;28;01mif\u001b[39;00m a\u001b[38;5;241m.\u001b[39mdtype \u001b[38;5;129;01mis\u001b[39;00m np\u001b[38;5;241m.\u001b[39mdtype(\u001b[38;5;124m'\u001b[39m\u001b[38;5;124mO\u001b[39m\u001b[38;5;124m'\u001b[39m):\n",
      "File \u001b[0;32m~/.miniconda3/envs/dl/lib/python3.11/site-packages/numpy/lib/function_base.py:630\u001b[0m, in \u001b[0;36masarray_chkfinite\u001b[0;34m(a, dtype, order)\u001b[0m\n\u001b[1;32m    628\u001b[0m a \u001b[38;5;241m=\u001b[39m asarray(a, dtype\u001b[38;5;241m=\u001b[39mdtype, order\u001b[38;5;241m=\u001b[39morder)\n\u001b[1;32m    629\u001b[0m \u001b[38;5;28;01mif\u001b[39;00m a\u001b[38;5;241m.\u001b[39mdtype\u001b[38;5;241m.\u001b[39mchar \u001b[38;5;129;01min\u001b[39;00m typecodes[\u001b[38;5;124m'\u001b[39m\u001b[38;5;124mAllFloat\u001b[39m\u001b[38;5;124m'\u001b[39m] \u001b[38;5;129;01mand\u001b[39;00m \u001b[38;5;129;01mnot\u001b[39;00m np\u001b[38;5;241m.\u001b[39misfinite(a)\u001b[38;5;241m.\u001b[39mall():\n\u001b[0;32m--> 630\u001b[0m     \u001b[38;5;28;01mraise\u001b[39;00m \u001b[38;5;167;01mValueError\u001b[39;00m(\n\u001b[1;32m    631\u001b[0m         \u001b[38;5;124m\"\u001b[39m\u001b[38;5;124marray must not contain infs or NaNs\u001b[39m\u001b[38;5;124m\"\u001b[39m)\n\u001b[1;32m    632\u001b[0m \u001b[38;5;28;01mreturn\u001b[39;00m a\n",
      "\u001b[0;31mValueError\u001b[0m: array must not contain infs or NaNs"
     ]
    }
   ],
   "source": [
    "def approximate_natural_policy_gradient(A,B,Q,R,alpha, K0 = np.array([[1, 1]]), max_iterations=1000):\n",
    "    \n",
    "    K = K0\n",
    "    \n",
    "    for i in range(max_iterations):\n",
    "        print(i)\n",
    "        grad_C_K, Sigma_K = policy_gradient_estimation(K, m=200, roll_out_length=200, r=0.01, d=2)\n",
    "        print(grad_C_K)\n",
    "        print(Sigma_K)\n",
    "        \n",
    "        # Gauss-Newton update\n",
    "        K_new = K - alpha * grad_C_K @ scipy.linalg.inv(Sigma_K)\n",
    "        \n",
    "        K = K_new\n",
    "    \n",
    "    return K\n",
    "\n",
    "Kest = approximate_natural_policy_gradient(A,B,Q,R,alpha=0.02, max_iterations=50)\n",
    "print(Kest)\n"
   ]
  },
  {
   "cell_type": "code",
   "execution_count": 295,
   "metadata": {},
   "outputs": [
    {
     "name": "stderr",
     "output_type": "stream",
     "text": [
      "No artists with labels found to put in legend.  Note that artists whose label start with an underscore are ignored when legend() is called with no argument.\n"
     ]
    },
    {
     "data": {
      "image/png": "[encoded data removed]",
      "text/plain": [
       "<Figure size 1200x800 with 2 Axes>"
      ]
     },
     "metadata": {},
     "output_type": "display_data"
    }
   ],
   "source": [
    "x0 = x0_distribution()\n",
    "\n",
    "import matplotlib.pyplot as plt\n",
    "\n",
    "# Simulate and plot the trajectory\n",
    "x = x0\n",
    "trajectory = [x.flatten()]\n",
    "u_history = []\n",
    "\n",
    "for t in range(200):\n",
    "    u = -Kest @ x\n",
    "    u_history.append(u.flatten())\n",
    "    x = A @ x + B @ u\n",
    "    trajectory.append(x.flatten())\n",
    "\n",
    "trajectory = np.array(trajectory)\n",
    "u_history = np.array(u_history)\n",
    "\n",
    "plt.figure(figsize=(12,8))\n",
    "plt.subplot(2,1,1)\n",
    "plt.plot(trajectory[:,0], trajectory[:,1])\n",
    "plt.legend()\n",
    "plt.title('State Trajectory')\n",
    "plt.grid(True)\n",
    "\n",
    "plt.subplot(2,1,2)\n",
    "plt.plot(u_history, label='Control Input')\n",
    "plt.legend()\n",
    "plt.title('Control Input')\n",
    "plt.grid(True)\n",
    "plt.tight_layout()\n",
    "plt.show()"
   ]
  },
  {
   "cell_type": "code",
   "execution_count": 397,
   "metadata": {},
   "outputs": [
    {
     "name": "stdout",
     "output_type": "stream",
     "text": [
      "Estimated policy gradient:\n",
      "[[90.54150301 47.62811174]]\n",
      "\n",
      "Estimated state covariance:\n",
      "[[ 9.38652547 -0.98083282]\n",
      " [-0.98083282  2.84978695]]\n"
     ]
    }
   ],
   "source": [
    "import numpy as np\n",
    "\n",
    "# Define system matrices for discrete double integrator with dt=0.1\n",
    "dt = 0.1\n",
    "A = np.array([[1, dt], [0, 1]])\n",
    "B = np.array([[0.5 * dt**2], [dt]])\n",
    "\n",
    "# Define Q and R as unit matrices\n",
    "Q = np.eye(2)\n",
    "R = np.eye(1)\n",
    "\n",
    "def simulate_trajectory(K, x0, l):\n",
    "    x = x0\n",
    "    cost = 0\n",
    "    states = []\n",
    "    for _ in range(l):\n",
    "        u = -K @ x\n",
    "        cost += x.T @ Q @ x + u.T @ R @ u\n",
    "        x = A @ x + B @ u\n",
    "        states.append(x)\n",
    "    return cost, np.array(states)\n",
    "\n",
    "def estimate_policy_gradient(K, m, l, r, d):\n",
    "    grad_sum = np.zeros_like(K)\n",
    "    sigma_sum = np.zeros((K.shape[1], K.shape[1]))\n",
    "    \n",
    "    for _ in range(m):\n",
    "        # Sample policy perturbation\n",
    "        U = np.random.randn(*K.shape)\n",
    "        U = U * r\n",
    "        K_perturbed = K + U\n",
    "        \n",
    "        # Simulate trajectory\n",
    "        x0 = np.random.randn(K.shape[1], 1)  # Random initial state\n",
    "        cost, states = simulate_trajectory(K_perturbed, x0, l)\n",
    "        \n",
    "        # Update gradient and covariance estimates\n",
    "        grad_sum += (d / r**2) * cost * U\n",
    "        for s in states:\n",
    "            sigma_sum += np.outer(s, s)\n",
    "    \n",
    "    grad_estimate = grad_sum / m\n",
    "    sigma_estimate = sigma_sum / m\n",
    "    \n",
    "    return grad_estimate, sigma_estimate\n",
    "\n",
    "# Example usage\n",
    "K = np.array([[0.6, 1.4]])  # Initial random policy\n",
    "m = 1000  # Number of trajectories\n",
    "l = 10  # Rollout length\n",
    "r = 0.01  # Smoothing parameter\n",
    "d = K.size  # Dimension of policy\n",
    "\n",
    "grad_estimate, sigma_estimate = estimate_policy_gradient(K, m, l, r, d)\n",
    "\n",
    "print(\"Estimated policy gradient:\")\n",
    "print(grad_estimate)\n",
    "print(\"\\nEstimated state covariance:\")\n",
    "print(sigma_estimate)"
   ]
  }
 ],
 "metadata": {
  "kernelspec": {
   "display_name": "dl",
   "language": "python",
   "name": "python3"
  },
  "language_info": {
   "codemirror_mode": {
    "name": "ipython",
    "version": 3
   },
   "file_extension": ".py",
   "mimetype": "text/x-python",
   "name": "python",
   "nbconvert_exporter": "python",
   "pygments_lexer": "ipython3",
   "version": "3.11.7"
  }
 },
 "nbformat": 4,
 "nbformat_minor": 2
}
